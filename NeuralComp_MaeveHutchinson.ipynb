{
 "cells": [
  {
   "cell_type": "markdown",
   "metadata": {},
   "source": [
    "# A Comparison of Multilayer Perceptrons and Recurrent Neural Networks as Applied to Sentiment Classification"
   ]
  },
  {
   "cell_type": "code",
   "execution_count": 324,
   "metadata": {},
   "outputs": [],
   "source": [
    "import numpy as np\n",
    "import matplotlib.pyplot as plt\n",
    "import torch\n",
    "import torch.nn as nn\n",
    "import torch.nn.functional as F\n",
    "import nltk\n",
    "from torchtext.legacy import data\n",
    "import random\n",
    "from datetime import datetime\n",
    "import optuna\n",
    "import dill"
   ]
  },
  {
   "cell_type": "code",
   "execution_count": 325,
   "metadata": {},
   "outputs": [],
   "source": [
    "#Ensuring reproducibility\n",
    "SEED = 42\n",
    "torch.manual_seed(SEED)\n",
    "torch.backends.cudnn.deterministic = True "
   ]
  },
  {
   "cell_type": "markdown",
   "metadata": {},
   "source": [
    "## Preparing the Data"
   ]
  },
  {
   "cell_type": "code",
   "execution_count": 326,
   "metadata": {},
   "outputs": [],
   "source": [
    "# defining the tokeniser and text and label fields\n",
    "token = nltk.RegexpTokenizer(r'[a-zA-Z]+') # letters only\n",
    "TEXT = data.Field(tokenize=token.tokenize, lower=True, batch_first=True, include_lengths=True)\n",
    "LABEL = data.LabelField(dtype = torch.float, batch_first=True)\n",
    "fields = [('text',TEXT),('label', LABEL)]"
   ]
  },
  {
   "cell_type": "code",
   "execution_count": 327,
   "metadata": {},
   "outputs": [
    {
     "name": "stdout",
     "output_type": "stream",
     "text": [
      "[{'text': ['so', 'there', 'is', 'no', 'way', 'for', 'me', 'to', 'plug', 'it', 'in', 'here', 'in', 'the', 'us', 'unless', 'i', 'go', 'by', 'a', 'converter'], 'label': '0'}, {'text': ['good', 'case', 'excellent', 'value'], 'label': '1'}, {'text': ['great', 'for', 'the', 'jawbone'], 'label': '1'}, {'text': ['tied', 'to', 'charger', 'for', 'conversations', 'lasting', 'more', 'than', 'minutes', 'major', 'problems'], 'label': '0'}, {'text': ['the', 'mic', 'is', 'great'], 'label': '1'}]\n"
     ]
    }
   ],
   "source": [
    "# loading the dataset and printing a few entries to check it loaded properly\n",
    "total_data = data.TabularDataset(path = \"total_data.tsv\", format = 'tsv', fields = fields)\n",
    "print([vars(total_data.examples[i]) for i in range(5)])"
   ]
  },
  {
   "cell_type": "code",
   "execution_count": 357,
   "metadata": {},
   "outputs": [
    {
     "data": {
      "text/plain": [
       "(1386, 1362)"
      ]
     },
     "execution_count": 357,
     "metadata": {},
     "output_type": "execute_result"
    }
   ],
   "source": [
    "pos = 0\n",
    "for i in range(len(total_data)):\n",
    "    label = vars(total_data.examples[i])['label']\n",
    "    pos += int(label)\n",
    "pos, len(total_data)-pos"
   ]
  },
  {
   "cell_type": "code",
   "execution_count": 371,
   "metadata": {},
   "outputs": [
    {
     "data": {
      "text/plain": [
       "(13.148471615720524, 34.23620443581023, 1319, 2.0, 6.0, 16.0)"
      ]
     },
     "execution_count": 371,
     "metadata": {},
     "output_type": "execute_result"
    }
   ],
   "source": [
    "lens = []\n",
    "for i in range(len(total_data)):\n",
    "    text = vars(total_data.examples[i])['text']\n",
    "    lens.append(len(text))\n",
    "    \n",
    "lens = np.array(lens)\n",
    "np.mean(lens), np.std(lens), np.max(lens), np.quantile(lens, 0.01), np.quantile(lens, 0.25), np.quantile(lens, 0.75)"
   ]
  },
  {
   "cell_type": "code",
   "execution_count": 328,
   "metadata": {},
   "outputs": [
    {
     "name": "stdout",
     "output_type": "stream",
     "text": [
      "Total entries: 2748, Training: 2198, Validation: 275, Test: 275\n"
     ]
    }
   ],
   "source": [
    "# splitting the data into testing, validation, and training sets in the ratio 80% 10% 10%\n",
    "train_data, valid_data, test_data = total_data.split(split_ratio=[0.8, 0.1, 0.1], random_state = random.seed(SEED))\n",
    "print(f\"Total entries: {len(total_data)}, Training: {len(train_data)}, Validation: {len(valid_data)}, Test: {len(test_data)}\")"
   ]
  },
  {
   "cell_type": "code",
   "execution_count": 342,
   "metadata": {},
   "outputs": [],
   "source": [
    "# saving the test data and fields for runs later\n",
    "torch.save(test_data.examples, \"test_data_examples.pkl\", pickle_module=dill)\n",
    "\n",
    "# saving train data examples so vocab can be built later \n",
    "torch.save(train_data.examples, \"train_data_examples.pkl\", pickle_module=dill)"
   ]
  },
  {
   "cell_type": "code",
   "execution_count": 330,
   "metadata": {},
   "outputs": [
    {
     "name": "stdout",
     "output_type": "stream",
     "text": [
      "Vocab Size: 1268\n"
     ]
    }
   ],
   "source": [
    "# Building the vocabulary\n",
    "TEXT.build_vocab(train_data, min_freq=3) # A word has to appear a minimum of 3 times to be included, or it is marked unknown\n",
    "LABEL.build_vocab(train_data)\n",
    "vocab_size = len(TEXT.vocab)\n",
    "print(f\"Vocab Size: {vocab_size}\")"
   ]
  },
  {
   "cell_type": "markdown",
   "metadata": {},
   "source": [
    "## Defining the Models: MLP and RNN"
   ]
  },
  {
   "cell_type": "code",
   "execution_count": 7,
   "metadata": {},
   "outputs": [],
   "source": [
    "# MLP with an embedding layer and 2 hidden layers\n",
    "class MLP(nn.Module):\n",
    "    def __init__(self, vocab_dim, embed_dim, hidden_dim, output_dim):\n",
    "        super().__init__()\n",
    "        self.embedding = nn.EmbeddingBag(vocab_dim, embed_dim, padding_idx=1)\n",
    "        self.fc1 = nn.Linear(embed_dim, hidden_dim)\n",
    "        self.fc2 = nn.Linear(hidden_dim, hidden_dim)\n",
    "        self.output = nn.Linear(hidden_dim, output_dim)\n",
    "\n",
    "        self.relu = nn.ReLU()\n",
    "        self.sig = nn.Sigmoid() # Sigmoid activation because the classification is binary\n",
    "        \n",
    "    def forward(self, text, text_lengths):\n",
    "        embeds = self.embedding(text)\n",
    "        X = self.relu(self.fc1(embeds))\n",
    "        X = self.relu(self.fc2(X))\n",
    "        X = self.sig(self.output(X))\n",
    "        return X"
   ]
  },
  {
   "cell_type": "code",
   "execution_count": 8,
   "metadata": {},
   "outputs": [],
   "source": [
    "# RNN with embedding layer, variable number of rnn layers, 1 fully connected hidden layer, 1 fully connected output layer\n",
    "class RNN(nn.Module):\n",
    "    def __init__(self, vocab_dim, embed_dim, rnn_hidden_dim, fc_hidden_dim, output_dim, num_layers):\n",
    "        super().__init__()\n",
    "        self.embedding = nn.Embedding(vocab_dim, embed_dim, padding_idx=1)\n",
    "        \n",
    "        self.rnn = nn.RNN(input_size = embed_dim, \n",
    "                    hidden_size = rnn_hidden_dim,\n",
    "                    num_layers=num_layers,\n",
    "                    batch_first = True)\n",
    "\n",
    "        self.fc1 = nn.Linear(rnn_hidden_dim, fc_hidden_dim)\n",
    "\n",
    "        self.relu = nn.ReLU()\n",
    "\n",
    "        self.fc2 = nn.Linear(fc_hidden_dim, output_dim)\n",
    "\n",
    "        self.sig = nn.Sigmoid()\n",
    "\n",
    "    def forward(self, text, text_lengths):\n",
    "        emb = self.embedding(text)\n",
    "        X = nn.utils.rnn.pack_padded_sequence(emb, text_lengths, enforce_sorted=False, batch_first=True)\n",
    "        X, hidden = self.rnn(X)\n",
    "        X = hidden[-1, :, :]\n",
    "        X = self.fc1(X)\n",
    "        X = self.relu(X)\n",
    "        X = self.fc2(X)\n",
    "        X = self.sig(X)\n",
    "        return X"
   ]
  },
  {
   "cell_type": "markdown",
   "metadata": {},
   "source": [
    "## Training and Evaluation Functions"
   ]
  },
  {
   "cell_type": "code",
   "execution_count": 10,
   "metadata": {},
   "outputs": [],
   "source": [
    "# defining the accuracy\n",
    "def accuracy(preds, targets):\n",
    "    preds_int = torch.round(preds) # rounding predictions\n",
    "    correct = (preds_int == targets).float() # counting correct predictions\n",
    "    acc = correct.sum() / len(correct)\n",
    "    return acc"
   ]
  },
  {
   "cell_type": "code",
   "execution_count": 11,
   "metadata": {},
   "outputs": [],
   "source": [
    "def train_eval(model, learning_rate=0.001):\n",
    "\n",
    "    batch_size = 8\n",
    "    \n",
    "    train_iterator, valid_iterator = data.BucketIterator.splits(\n",
    "        (train_data, valid_data), \n",
    "        batch_size = batch_size,\n",
    "        sort_key = lambda x: len(x.text),\n",
    "        sort_within_batch=True)\n",
    "\n",
    "    criterion = nn.BCELoss()\n",
    "    optimiser = torch.optim.Adam(model.parameters(), lr=learning_rate)\n",
    "\n",
    "    epoch_train_loss = 0\n",
    "    epoch_train_acc = 0\n",
    "    \n",
    "    model.train()\n",
    "    \n",
    "    for batch in train_iterator:\n",
    "        \n",
    "        optimiser.zero_grad()   \n",
    "        \n",
    "        text, text_lengths = batch.text   \n",
    "        \n",
    "        predictions = model(text, text_lengths).squeeze()\n",
    "\n",
    "        loss = criterion(predictions, batch.label)\n",
    "        acc = accuracy(predictions, batch.label)\n",
    "    \n",
    "        loss.backward()       \n",
    "            \n",
    "        optimiser.step()      \n",
    "            \n",
    "        epoch_train_loss += loss.item()  \n",
    "        epoch_train_acc += acc.item()  \n",
    "\n",
    "    epoch_valid_loss = 0\n",
    "    epoch_valid_acc = 0\n",
    "\n",
    "    model.eval()\n",
    "    \n",
    "    with torch.no_grad():\n",
    "    \n",
    "        for batch in valid_iterator:\n",
    "        \n",
    "            text, text_lengths = batch.text\n",
    "            \n",
    "            predictions = model(text, text_lengths).squeeze()\n",
    "            \n",
    "            loss = criterion(predictions, batch.label)\n",
    "            acc = accuracy(predictions, batch.label)\n",
    "            \n",
    "            epoch_valid_loss += loss.item()\n",
    "            epoch_valid_acc += acc.item()\n",
    "            \n",
    "\n",
    "    loss_acc = (epoch_train_loss / len(train_iterator), epoch_train_acc / len(train_iterator), \n",
    "                epoch_valid_loss / len(valid_iterator), epoch_valid_acc / len(valid_iterator))\n",
    "                        \n",
    "    return loss_acc"
   ]
  },
  {
   "cell_type": "code",
   "execution_count": 12,
   "metadata": {},
   "outputs": [],
   "source": [
    "def test(model):\n",
    "\n",
    "    test_iterator = data.BucketIterator(\n",
    "        test_data, \n",
    "        batch_size = 8,\n",
    "        sort_key = lambda x: len(x.text),\n",
    "        sort_within_batch=True)\n",
    "\n",
    "    criterion = nn.BCELoss()\n",
    "    \n",
    "    test_loss = 0\n",
    "    test_acc = 0\n",
    "\n",
    "    model.eval()\n",
    "    \n",
    "    with torch.no_grad():\n",
    "    \n",
    "        for batch in test_iterator:\n",
    "        \n",
    "            #retrieve review and its length\n",
    "            text, text_lengths = batch.text\n",
    "\n",
    "            if text_lengths.all() > 0: # ignore empty reviews\n",
    "                \n",
    "                # predicting test data labels\n",
    "                predictions = model(text, text_lengths).squeeze()\n",
    "                \n",
    "                # calculating loss and accuracy\n",
    "                loss = criterion(predictions, batch.label)\n",
    "                acc = accuracy(predictions, batch.label)\n",
    "                \n",
    "                test_loss += loss.item()\n",
    "                test_acc += acc.item()\n",
    "\n",
    "    loss_acc = (test_loss / len(test_iterator), test_acc / len(test_iterator))\n",
    "    return  loss_acc"
   ]
  },
  {
   "cell_type": "code",
   "execution_count": 263,
   "metadata": {},
   "outputs": [],
   "source": [
    "def run_training(model, epochs=100, learning_rate=0.001):\n",
    "\n",
    "    best_valid_loss = float('inf')\n",
    "    \n",
    "    train_loss_list = []\n",
    "    train_acc_list = []\n",
    "    valid_loss_list = []\n",
    "    valid_acc_list = []\n",
    "\n",
    "    for epoch in range(epochs):\n",
    "\n",
    "        #training the model\n",
    "        train_loss, train_acc, valid_loss, valid_acc = train_eval(model, learning_rate)\n",
    "        \n",
    "        train_loss_list.append(train_loss)\n",
    "        train_acc_list.append(train_acc)\n",
    "        valid_loss_list.append(valid_loss)\n",
    "        valid_acc_list.append(valid_acc)\n",
    "\n",
    "        #save the best model\n",
    "        if valid_loss < best_valid_loss:\n",
    "            best_valid_loss = valid_loss\n",
    "            now = datetime.now().strftime(\"%d-%m-%Y_%H-%M\")\n",
    "            torch.save(model.state_dict(), f'saved_weights_{now}.pt')\n",
    "        \n",
    "        print(f'\\tTrain Loss: {train_loss:.3f} \\t Train Acc: {train_acc*100:.2f}%')\n",
    "        print(f'\\t Val. Loss: {valid_loss:.3f} \\t  Val. Acc: {valid_acc*100:.2f}%')\n",
    "\n",
    "    fig, (ax1, ax2) = plt.subplots(2,1, figsize = (5*1.61, 5*2))\n",
    "    ax1.plot(train_loss_list, label = \"Training Loss\")\n",
    "    ax1.plot(valid_loss_list, label = \"Validation Loss\")\n",
    "    ax1.set_ylabel(\"Loss\")\n",
    "    ax2.set_xlabel(\"Epoch\")\n",
    "    ax1.grid()\n",
    "    ax1.legend()\n",
    "    \n",
    "    ax2.plot(train_acc_list, label = \"Training Accuracy\")\n",
    "    ax2.plot(valid_acc_list, label = \"Validation Accuracy\")\n",
    "    ax2.set_ylabel(\"Accuracy\")\n",
    "    ax2.set_xlabel(\"Epoch\")\n",
    "    ax2.grid()\n",
    "    ax2.legend()\n",
    "    #plt.show()\n",
    "    \n",
    "    return train_loss, train_acc, valid_loss, valid_acc"
   ]
  },
  {
   "cell_type": "markdown",
   "metadata": {},
   "source": [
    "## Running some benchmark models (no tuning)"
   ]
  },
  {
   "cell_type": "code",
   "execution_count": 254,
   "metadata": {},
   "outputs": [],
   "source": [
    "vocab_dim = len(TEXT.vocab)\n",
    "embed_dim = 128\n",
    "hidden_dim = 32\n",
    "output_dim = 1\n",
    "\n",
    "mlp = MLP(vocab_dim, embed_dim, hidden_dim, output_dim)"
   ]
  },
  {
   "cell_type": "code",
   "execution_count": 255,
   "metadata": {},
   "outputs": [],
   "source": [
    "num_layers = 2\n",
    "rnn = RNN(vocab_dim, embed_dim, hidden_dim, hidden_dim, output_dim, num_layers)"
   ]
  },
  {
   "cell_type": "code",
   "execution_count": 256,
   "metadata": {
    "scrolled": true
   },
   "outputs": [
    {
     "name": "stdout",
     "output_type": "stream",
     "text": [
      "\tTrain Loss: 0.654 \t Train Acc: 60.77%\n",
      "\t Val. Loss: 0.589 \t  Val. Acc: 64.76%\n",
      "\tTrain Loss: 0.494 \t Train Acc: 75.05%\n",
      "\t Val. Loss: 0.562 \t  Val. Acc: 68.69%\n",
      "\tTrain Loss: 0.410 \t Train Acc: 80.09%\n",
      "\t Val. Loss: 0.551 \t  Val. Acc: 75.48%\n",
      "\tTrain Loss: 0.344 \t Train Acc: 84.24%\n",
      "\t Val. Loss: 0.551 \t  Val. Acc: 79.76%\n",
      "\tTrain Loss: 0.291 \t Train Acc: 87.65%\n",
      "\t Val. Loss: 0.562 \t  Val. Acc: 80.12%\n",
      "\tTrain Loss: 0.245 \t Train Acc: 89.79%\n",
      "\t Val. Loss: 0.574 \t  Val. Acc: 81.79%\n",
      "\tTrain Loss: 0.204 \t Train Acc: 91.61%\n",
      "\t Val. Loss: 0.595 \t  Val. Acc: 82.14%\n",
      "\tTrain Loss: 0.172 \t Train Acc: 93.52%\n",
      "\t Val. Loss: 0.616 \t  Val. Acc: 81.43%\n",
      "\tTrain Loss: 0.144 \t Train Acc: 94.79%\n",
      "\t Val. Loss: 0.940 \t  Val. Acc: 81.43%\n",
      "\tTrain Loss: 0.122 \t Train Acc: 95.92%\n",
      "\t Val. Loss: 0.993 \t  Val. Acc: 81.79%\n"
     ]
    },
    {
     "data": {
      "image/png": "[encoded data removed]",
      "text/plain": [
       "<Figure size 579.6x720 with 2 Axes>"
      ]
     },
     "metadata": {
      "needs_background": "light"
     },
     "output_type": "display_data"
    },
    {
     "data": {
      "text/plain": [
       "(0.12178760983836996,\n",
       " 0.9592424243146723,\n",
       " 0.9927420927477735,\n",
       " 0.8178571428571428)"
      ]
     },
     "execution_count": 256,
     "metadata": {},
     "output_type": "execute_result"
    }
   ],
   "source": [
    "run_training(mlp,epochs=10)"
   ]
  },
  {
   "cell_type": "code",
   "execution_count": 257,
   "metadata": {
    "scrolled": true
   },
   "outputs": [
    {
     "name": "stdout",
     "output_type": "stream",
     "text": [
      "\tTrain Loss: 0.681 \t Train Acc: 55.52%\n",
      "\t Val. Loss: 0.689 \t  Val. Acc: 55.83%\n",
      "\tTrain Loss: 0.556 \t Train Acc: 71.59%\n",
      "\t Val. Loss: 0.579 \t  Val. Acc: 70.36%\n",
      "\tTrain Loss: 0.426 \t Train Acc: 81.59%\n",
      "\t Val. Loss: 0.585 \t  Val. Acc: 74.05%\n",
      "\tTrain Loss: 0.338 \t Train Acc: 86.39%\n",
      "\t Val. Loss: 0.569 \t  Val. Acc: 75.71%\n",
      "\tTrain Loss: 0.276 \t Train Acc: 88.91%\n",
      "\t Val. Loss: 0.562 \t  Val. Acc: 75.00%\n",
      "\tTrain Loss: 0.214 \t Train Acc: 91.76%\n",
      "\t Val. Loss: 0.632 \t  Val. Acc: 73.33%\n",
      "\tTrain Loss: 0.183 \t Train Acc: 93.32%\n",
      "\t Val. Loss: 0.561 \t  Val. Acc: 78.57%\n",
      "\tTrain Loss: 0.126 \t Train Acc: 95.95%\n",
      "\t Val. Loss: 0.695 \t  Val. Acc: 77.86%\n",
      "\tTrain Loss: 0.105 \t Train Acc: 96.95%\n",
      "\t Val. Loss: 0.719 \t  Val. Acc: 79.64%\n",
      "\tTrain Loss: 0.087 \t Train Acc: 97.50%\n",
      "\t Val. Loss: 0.768 \t  Val. Acc: 80.71%\n"
     ]
    },
    {
     "data": {
      "image/png": "[encoded data removed]",
      "text/plain": [
       "<Figure size 579.6x720 with 2 Axes>"
      ]
     },
     "metadata": {
      "needs_background": "light"
     },
     "output_type": "display_data"
    },
    {
     "data": {
      "text/plain": [
       "(0.08741246146001769, 0.975, 0.7680427361944956, 0.8071428571428572)"
      ]
     },
     "execution_count": 257,
     "metadata": {},
     "output_type": "execute_result"
    }
   ],
   "source": [
    "run_training(rnn, epochs=10)"
   ]
  },
  {
   "cell_type": "markdown",
   "metadata": {},
   "source": [
    "## Hyperparameter tuning"
   ]
  },
  {
   "cell_type": "code",
   "execution_count": 258,
   "metadata": {},
   "outputs": [],
   "source": [
    "def objective_mlp(trial):\n",
    "\n",
    "    params = {\n",
    "              'learning_rate': trial.suggest_loguniform('learning_rate', 1e-5, 1e-1),\n",
    "              'embed_dim': trial.suggest_int('embed_dim', 180, 200, 5),\n",
    "              'hidden_dim': trial.suggest_int('hidden_dim', 100, 150, 5),\n",
    "              }\n",
    "    \n",
    "    vocab_dim = len(TEXT.vocab)\n",
    "    embed_dim = params['embed_dim']\n",
    "    hidden_dim = params['hidden_dim']\n",
    "    output_dim = 1\n",
    "\n",
    "    mlp = MLP(vocab_dim, embed_dim, hidden_dim, output_dim)\n",
    "    \n",
    "    train_loss, train_acc, valid_loss, valid_acc = run_training(model=mlp, epochs=10, learning_rate=params['learning_rate'])\n",
    "\n",
    "    return valid_acc"
   ]
  },
  {
   "cell_type": "code",
   "execution_count": 259,
   "metadata": {},
   "outputs": [],
   "source": [
    "def objective_rnn(trial):\n",
    "\n",
    "    params = {\n",
    "              'learning_rate': trial.suggest_loguniform('learning_rate', 1e-5, 1e-1),\n",
    "              'embed_dim': trial.suggest_int('embed_dim', 150, 250, 10),\n",
    "              'hidden_dim': trial.suggest_int('hidden_dim', 50, 150, 10),\n",
    "              'hidden_dim2': trial.suggest_int('hidden_dim2', 130, 190, 10),\n",
    "              'num_layers': trial.suggest_int('num_layers', 1, 2),\n",
    "              }\n",
    " \n",
    "    vocab_dim = len(TEXT.vocab)\n",
    "    embed_dim = params['embed_dim']\n",
    "    rnn_hidden_dim = params['hidden_dim']\n",
    "    fc_hidden_dim = params['hidden_dim2']\n",
    "    output_dim = 1\n",
    "    num_layers = params['num_layers']\n",
    "\n",
    "    rnn = RNN(vocab_dim, embed_dim, rnn_hidden_dim, fc_hidden_dim, output_dim, num_layers)\n",
    "\n",
    "    train_loss, train_acc, valid_loss, valid_acc = run_training(model=rnn, epochs=10, learning_rate=params['learning_rate'])\n",
    "\n",
    "    return valid_acc"
   ]
  },
  {
   "cell_type": "code",
   "execution_count": null,
   "metadata": {},
   "outputs": [],
   "source": [
    "# output of this cell has been cleared because it was very long\n",
    "study = optuna.create_study(direction=\"maximize\", sampler=optuna.samplers.TPESampler())\n",
    "study.optimize(objective_mlp, n_trials=100)"
   ]
  },
  {
   "cell_type": "code",
   "execution_count": 70,
   "metadata": {},
   "outputs": [
    {
     "name": "stdout",
     "output_type": "stream",
     "text": [
      "learning_rate: 0.003926814276309154\n",
      "embed_dim: 195\n",
      "hidden_dim: 150\n"
     ]
    }
   ],
   "source": [
    "best_trial = study.best_trial\n",
    "\n",
    "for key, value in best_trial.params.items():\n",
    "    print(\"{}: {}\".format(key, value))"
   ]
  },
  {
   "cell_type": "code",
   "execution_count": null,
   "metadata": {
    "scrolled": true
   },
   "outputs": [],
   "source": [
    "# output of this cell has been cleared because it was very long\n",
    "study = optuna.create_study(direction=\"maximize\", sampler=optuna.samplers.TPESampler())\n",
    "study.optimize(objective_rnn, n_trials=100)"
   ]
  },
  {
   "cell_type": "code",
   "execution_count": 17,
   "metadata": {},
   "outputs": [
    {
     "name": "stdout",
     "output_type": "stream",
     "text": [
      "learning_rate: 0.00258965493300806\n",
      "embed_dim: 230\n",
      "hidden_dim: 90\n",
      "hidden_dim2: 150\n",
      "num_layers: 2\n"
     ]
    }
   ],
   "source": [
    "best_trial = study.best_trial\n",
    "\n",
    "for key, value in best_trial.params.items():\n",
    "    print(\"{}: {}\".format(key, value))"
   ]
  },
  {
   "cell_type": "markdown",
   "metadata": {},
   "source": [
    "## Training with Best Hyperparams"
   ]
  },
  {
   "cell_type": "code",
   "execution_count": 265,
   "metadata": {},
   "outputs": [],
   "source": [
    "# Manually imputting the values found by optuna\n",
    "vocab_dim = len(TEXT.vocab)\n",
    "embed_dim_mlp = 195\n",
    "hidden_dim_mlp = 150\n",
    "output_dim = 1\n",
    "learning_rate_mlp = 0.003927 \n",
    "\n",
    "mlp = MLP(vocab_dim, embed_dim_mlp, hidden_dim_mlp, output_dim)"
   ]
  },
  {
   "cell_type": "code",
   "execution_count": 266,
   "metadata": {},
   "outputs": [],
   "source": [
    "embed_dim_rnn = 230\n",
    "hidden_dim_rnn = 90\n",
    "hidden_dim2_rnn =150\n",
    "num_layers = 2\n",
    "learning_rate_rnn = 0.002590\n",
    "\n",
    "rnn = RNN(vocab_dim, embed_dim_rnn, hidden_dim_rnn, hidden_dim2_rnn, output_dim, num_layers)"
   ]
  },
  {
   "cell_type": "code",
   "execution_count": 267,
   "metadata": {
    "scrolled": true
   },
   "outputs": [
    {
     "name": "stdout",
     "output_type": "stream",
     "text": [
      "\tTrain Loss: 0.600 \t Train Acc: 65.89%\n",
      "\t Val. Loss: 0.598 \t  Val. Acc: 67.98%\n",
      "\tTrain Loss: 0.427 \t Train Acc: 80.41%\n",
      "\t Val. Loss: 0.596 \t  Val. Acc: 72.98%\n",
      "\tTrain Loss: 0.326 \t Train Acc: 86.09%\n",
      "\t Val. Loss: 0.653 \t  Val. Acc: 75.12%\n",
      "\tTrain Loss: 0.235 \t Train Acc: 90.64%\n",
      "\t Val. Loss: 1.050 \t  Val. Acc: 74.76%\n",
      "\tTrain Loss: 0.162 \t Train Acc: 93.45%\n",
      "\t Val. Loss: 1.124 \t  Val. Acc: 76.90%\n",
      "\tTrain Loss: 0.118 \t Train Acc: 95.32%\n",
      "\t Val. Loss: 1.151 \t  Val. Acc: 78.69%\n",
      "\tTrain Loss: 0.087 \t Train Acc: 96.61%\n",
      "\t Val. Loss: 1.333 \t  Val. Acc: 76.19%\n",
      "\tTrain Loss: 0.074 \t Train Acc: 97.64%\n",
      "\t Val. Loss: 2.090 \t  Val. Acc: 78.57%\n",
      "\tTrain Loss: 0.071 \t Train Acc: 97.86%\n",
      "\t Val. Loss: 1.986 \t  Val. Acc: 81.07%\n",
      "\tTrain Loss: 0.074 \t Train Acc: 97.73%\n",
      "\t Val. Loss: 1.901 \t  Val. Acc: 77.98%\n"
     ]
    },
    {
     "data": {
      "image/png": "[encoded data removed]",
      "text/plain": [
       "<Figure size 579.6x720 with 2 Axes>"
      ]
     },
     "metadata": {
      "needs_background": "light"
     },
     "output_type": "display_data"
    }
   ],
   "source": [
    "train_loss_mlp, train_acc_mlp, valid_loss_mlp, valid_acc_mlp = run_training(mlp,epochs=10)"
   ]
  },
  {
   "cell_type": "code",
   "execution_count": 268,
   "metadata": {
    "scrolled": true
   },
   "outputs": [
    {
     "name": "stdout",
     "output_type": "stream",
     "text": [
      "\tTrain Loss: 0.673 \t Train Acc: 55.71%\n",
      "\t Val. Loss: 0.631 \t  Val. Acc: 60.83%\n",
      "\tTrain Loss: 0.523 \t Train Acc: 73.58%\n",
      "\t Val. Loss: 0.603 \t  Val. Acc: 66.90%\n",
      "\tTrain Loss: 0.380 \t Train Acc: 82.42%\n",
      "\t Val. Loss: 0.650 \t  Val. Acc: 67.86%\n",
      "\tTrain Loss: 0.278 \t Train Acc: 88.67%\n",
      "\t Val. Loss: 0.602 \t  Val. Acc: 72.86%\n",
      "\tTrain Loss: 0.215 \t Train Acc: 91.56%\n",
      "\t Val. Loss: 0.720 \t  Val. Acc: 73.21%\n",
      "\tTrain Loss: 0.169 \t Train Acc: 93.30%\n",
      "\t Val. Loss: 0.746 \t  Val. Acc: 74.64%\n",
      "\tTrain Loss: 0.130 \t Train Acc: 95.73%\n",
      "\t Val. Loss: 0.911 \t  Val. Acc: 74.29%\n",
      "\tTrain Loss: 0.105 \t Train Acc: 96.14%\n",
      "\t Val. Loss: 1.001 \t  Val. Acc: 75.36%\n",
      "\tTrain Loss: 0.077 \t Train Acc: 97.27%\n",
      "\t Val. Loss: 1.203 \t  Val. Acc: 73.57%\n",
      "\tTrain Loss: 0.077 \t Train Acc: 97.14%\n",
      "\t Val. Loss: 1.277 \t  Val. Acc: 75.12%\n"
     ]
    },
    {
     "data": {
      "image/png": "[encoded data removed]",
      "text/plain": [
       "<Figure size 579.6x720 with 2 Axes>"
      ]
     },
     "metadata": {
      "needs_background": "light"
     },
     "output_type": "display_data"
    }
   ],
   "source": [
    "train_loss_rnn, train_acc_rnn, valid_loss_rnn, valid_acc_rnn = run_training(rnn,epochs=10)"
   ]
  },
  {
   "cell_type": "markdown",
   "metadata": {},
   "source": [
    "## Testing Final Models \n",
    "### Cells below here can be run independently of the rest of the notebook to test the best trained models"
   ]
  },
  {
   "cell_type": "code",
   "execution_count": 9,
   "metadata": {},
   "outputs": [],
   "source": [
    "import numpy as np\n",
    "import matplotlib.pyplot as plt\n",
    "import torch\n",
    "import torch.nn as nn\n",
    "import torch.nn.functional as F\n",
    "from torchtext.legacy import data\n",
    "import random\n",
    "from sklearn.metrics import confusion_matrix, ConfusionMatrixDisplay\n",
    "import dill\n",
    "import nltk"
   ]
  },
  {
   "cell_type": "code",
   "execution_count": 10,
   "metadata": {},
   "outputs": [],
   "source": [
    "# MLP with an embedding layer and 2 hidden layers\n",
    "class MLP(nn.Module):\n",
    "    def __init__(self, vocab_dim, embed_dim, hidden_dim, output_dim):\n",
    "        super().__init__()\n",
    "        self.embedding = nn.EmbeddingBag(vocab_dim, embed_dim, padding_idx=1)\n",
    "        self.fc1 = nn.Linear(embed_dim, hidden_dim)\n",
    "        self.fc2 = nn.Linear(hidden_dim, hidden_dim)\n",
    "        self.output = nn.Linear(hidden_dim, output_dim)\n",
    "\n",
    "        self.relu = nn.ReLU()\n",
    "        self.sig = nn.Sigmoid() # Sigmoid activation because the classification is binary\n",
    "        \n",
    "    def forward(self, text, text_lengths):\n",
    "        embeds = self.embedding(text)\n",
    "        X = self.relu(self.fc1(embeds))\n",
    "        X = self.relu(self.fc2(X))\n",
    "        X = self.sig(self.output(X))\n",
    "        return X\n",
    "\n",
    "# RNN with embedding layer, variable number of rnn layers, 1 fully connected hidden layer, 1 fully connected output layer\n",
    "class RNN(nn.Module):\n",
    "    def __init__(self, vocab_dim, embed_dim, rnn_hidden_dim, fc_hidden_dim, output_dim, num_layers):\n",
    "        super().__init__()\n",
    "        self.embedding = nn.Embedding(vocab_dim, embed_dim, padding_idx=1)\n",
    "        \n",
    "        self.rnn = nn.RNN(input_size = embed_dim, \n",
    "                    hidden_size = rnn_hidden_dim,\n",
    "                    num_layers=num_layers,\n",
    "                    batch_first = True)\n",
    "\n",
    "        self.fc1 = nn.Linear(rnn_hidden_dim, fc_hidden_dim)\n",
    "\n",
    "        self.relu = nn.ReLU()\n",
    "\n",
    "        self.fc2 = nn.Linear(fc_hidden_dim, output_dim)\n",
    "\n",
    "        self.sig = nn.Sigmoid()\n",
    "\n",
    "    def forward(self, text, text_lengths):\n",
    "        emb = self.embedding(text)\n",
    "        X = nn.utils.rnn.pack_padded_sequence(emb, text_lengths, enforce_sorted=False, batch_first=True)\n",
    "        X, hidden = self.rnn(X)\n",
    "        X = hidden[-1, :, :]\n",
    "        X = self.fc1(X)\n",
    "        X = self.relu(X)\n",
    "        X = self.fc2(X)\n",
    "        X = self.sig(X)\n",
    "        return X"
   ]
  },
  {
   "cell_type": "code",
   "execution_count": 13,
   "metadata": {},
   "outputs": [],
   "source": [
    "# defining the accuracy\n",
    "def accuracy(preds, targets):\n",
    "    preds_int = torch.round(preds) # rounding predictions\n",
    "    correct = (preds_int == targets).float() # counting correct predictions\n",
    "    acc = correct.sum() / len(correct)\n",
    "    return acc\n",
    "\n",
    "def test(model):\n",
    "    # defining the tokeniser and text and label fields\n",
    "    token = nltk.RegexpTokenizer(r'[a-zA-Z]+') # letters only\n",
    "    TEXT = data.Field(tokenize=token.tokenize, lower=True, batch_first=True, include_lengths=True)\n",
    "    LABEL = data.LabelField(dtype = torch.float, batch_first=True)\n",
    "    fields = [('text',TEXT),('label', LABEL)]\n",
    "    \n",
    "    # loading test and train data\n",
    "    test_examples = torch.load(\"test_data_examples.pkl\", pickle_module=dill)\n",
    "    test_data = data.Dataset(test_examples, fields)\n",
    "    \n",
    "    train_data_examples = torch.load(\"train_data_examples.pkl\", pickle_module=dill)\n",
    "    train_data = data.Dataset(train_data_examples, fields)\n",
    "    \n",
    "    # Building the vocabulary\n",
    "    TEXT.build_vocab(train_data, min_freq=3)\n",
    "    LABEL.build_vocab(train_data)\n",
    "    vocab_size = len(TEXT.vocab)\n",
    "    \n",
    "    test_iterator = data.BucketIterator(\n",
    "        test_data, \n",
    "        batch_size = 8,\n",
    "        sort_key = lambda x: len(x.text),\n",
    "        sort_within_batch=True)\n",
    "\n",
    "    criterion = nn.BCELoss()\n",
    "    \n",
    "    test_loss = 0\n",
    "    test_acc = 0\n",
    "    confusion_mat = 0\n",
    "    model.eval()\n",
    "    \n",
    "    with torch.no_grad():\n",
    "    \n",
    "        for batch in test_iterator:\n",
    "        \n",
    "            #retrieve review and its length\n",
    "            text, text_lengths = batch.text\n",
    "\n",
    "            if text_lengths.all() > 0: # ignore empty reviews\n",
    "                \n",
    "                # predicting test data labels\n",
    "                predictions = model(text, text_lengths).squeeze()\n",
    "                \n",
    "                # calculating loss and accuracy, confusion matrix\n",
    "                loss = criterion(predictions, batch.label)\n",
    "                acc = accuracy(predictions, batch.label)\n",
    "                c = confusion_matrix(batch.label, torch.round(predictions))\n",
    "                \n",
    "                confusion_mat += c\n",
    "                test_loss += loss.item()\n",
    "                test_acc += acc.item()\n",
    "                              \n",
    "    loss_acc_conf = (test_loss / len(test_iterator), test_acc / len(test_iterator), confusion_mat)\n",
    "    \n",
    "    return  loss_acc_conf"
   ]
  },
  {
   "cell_type": "code",
   "execution_count": 14,
   "metadata": {},
   "outputs": [
    {
     "name": "stdout",
     "output_type": "stream",
     "text": [
      "Test Loss: 0.515 \t Test Acc: 76.07%\n"
     ]
    }
   ],
   "source": [
    "vocab_dim = 1268\n",
    "embed_dim_mlp = 195\n",
    "hidden_dim_mlp = 150\n",
    "output_dim = 1\n",
    "learning_rate_mlp = 0.003927 \n",
    "\n",
    "mlp = MLP(vocab_dim, embed_dim_mlp, hidden_dim_mlp, output_dim)\n",
    "\n",
    "mlp.load_state_dict(torch.load(\"saved_weights_best_mlp.pt\"))\n",
    "# predict\n",
    "test_loss, test_acc, conf_mat_mlp = test(mlp)\n",
    "print(f'Test Loss: {test_loss:.3f} \\t Test Acc: {test_acc * 100:.2f}%')"
   ]
  },
  {
   "cell_type": "code",
   "execution_count": 15,
   "metadata": {},
   "outputs": [
    {
     "name": "stdout",
     "output_type": "stream",
     "text": [
      "Test Loss: 0.597 \t Test Acc: 64.52%\n"
     ]
    }
   ],
   "source": [
    "embed_dim_rnn = 230\n",
    "hidden_dim_rnn = 90\n",
    "hidden_dim2_rnn =150\n",
    "num_layers = 2\n",
    "learning_rate_rnn = 0.002590\n",
    "\n",
    "rnn = RNN(vocab_dim, embed_dim_rnn, hidden_dim_rnn, hidden_dim2_rnn, output_dim, num_layers)\n",
    "\n",
    "rnn.load_state_dict(torch.load(\"saved_weights_best_rnn.pt\"))\n",
    "\n",
    "test_loss, test_acc, conf_mat_rnn = test(rnn)\n",
    "print(f'Test Loss: {test_loss:.3f} \\t Test Acc: {test_acc * 100:.2f}%')"
   ]
  },
  {
   "cell_type": "code",
   "execution_count": 16,
   "metadata": {},
   "outputs": [
    {
     "data": {
      "image/png": "[encoded data removed]",
      "text/plain": [
       "<Figure size 579.6x360 with 2 Axes>"
      ]
     },
     "metadata": {
      "needs_background": "light"
     },
     "output_type": "display_data"
    }
   ],
   "source": [
    "fig, (ax1, ax2) = plt.subplots(1,2, figsize=(5*1.61, 5))\n",
    "\n",
    "display_mlp = ConfusionMatrixDisplay(conf_mat_mlp)\n",
    "display_rnn = ConfusionMatrixDisplay(conf_mat_rnn)\n",
    "\n",
    "display_mlp.plot(cmap='Reds', colorbar=False, ax=ax1)\n",
    "display_rnn.plot(cmap='Reds', colorbar=False, ax=ax2)\n",
    "\n",
    "ax1.set_title(\"MLP\")\n",
    "ax2.set_title(\"RNN\")\n",
    "\n",
    "plt.show()"
   ]
  },
  {
   "cell_type": "code",
   "execution_count": 312,
   "metadata": {},
   "outputs": [
    {
     "name": "stdout",
     "output_type": "stream",
     "text": [
      "Precision: 0.7403314917127072, Recall: 0.9178082191780822, F1: 0.819571865443425\n",
      "Precision: 0.65625, Recall: 0.863013698630137, F1: 0.7455621301775148\n"
     ]
    }
   ],
   "source": [
    "def calculate_metrics(conf_mat):\n",
    "    tn, fp, fn, tp = conf_mat.ravel()\n",
    "    p = tp/(tp+fp)\n",
    "    r = tp/(tp+fn)\n",
    "    f1 = 2 * (p * r) / (p + r)\n",
    "    print(f\"Precision: {p}, Recall: {r}, F1: {f1}\")\n",
    "    \n",
    "calculate_metrics(conf_mat_mlp)\n",
    "calculate_metrics(conf_mat_rnn)"
   ]
  },
  {
   "cell_type": "markdown",
   "metadata": {},
   "source": [
    "## References"
   ]
  },
  {
   "cell_type": "markdown",
   "metadata": {},
   "source": [
    "Below are resources I used to help me write my code."
   ]
  },
  {
   "cell_type": "markdown",
   "metadata": {},
   "source": [
    "[1]S. Raschka, Y. Liu, V. Mirjalili, and D. Dzhulgakov, Machine learning with PyTorch and Scikit-Learn: develop machine learning and deep learning models with Python. Birmingham: Packt Publishing, 2022.\n",
    "  \n",
    "[2]‘Text Classification Pytorch | Build Text Classification Model’, Analytics Vidhya, Jan. 27, 2020. https://www.analyticsvidhya.com/blog/2020/01/first-text-classification-in-pytorch/ (accessed May 08, 2022).\n",
    "  \n",
    "  \n",
    "[3]G. Hever, ‘Sentiment Analysis with Pytorch — Part 5— MLP Model’, Medium, Apr. 23, 2020. https://galhever.medium.com/sentiment-analysis-with-pytorch-part-5-mlp-model-387057f4a06a (accessed May 08, 2022).\n",
    "  \n",
    "[3]R. Winastwan, ‘Hyperparameter Tuning of Neural Networks with Optuna and PyTorch’, Medium, Dec. 14, 2021. https://towardsdatascience.com/hyperparameter-tuning-of-neural-networks-with-optuna-and-pytorch-22e179efc837 (accessed May 08, 2022).\n",
    "  \n",
    "\n"
   ]
  }
 ],
 "metadata": {
  "interpreter": {
   "hash": "08862e44227d36fa36924244a352dfacc6ee66240882cb9e3f591415d0f56682"
  },
  "kernelspec": {
   "display_name": "Python 3 (ipykernel)",
   "language": "python",
   "name": "python3"
  },
  "language_info": {
   "codemirror_mode": {
    "name": "ipython",
    "version": 3
   },
   "file_extension": ".py",
   "mimetype": "text/x-python",
   "name": "python",
   "nbconvert_exporter": "python",
   "pygments_lexer": "ipython3",
   "version": "3.8.12"
  }
 },
 "nbformat": 4,
 "nbformat_minor": 2
}
